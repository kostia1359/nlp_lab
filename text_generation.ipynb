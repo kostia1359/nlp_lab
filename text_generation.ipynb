{
  "cells": [
    {
      "cell_type": "markdown",
      "metadata": {
        "id": "IDJctDhhEDTD"
      },
      "source": [
        "## Importing dependencies"
      ]
    },
    {
      "cell_type": "code",
      "execution_count": null,
      "metadata": {
        "id": "Z2xZnxncD2Ep"
      },
      "outputs": [],
      "source": [
        "# Selecting Tensorflow version v2 (the command is relevant for Colab only).\n",
        "# %tensorflow_version 2.x"
      ]
    },
    {
      "cell_type": "code",
      "execution_count": null,
      "metadata": {
        "colab": {
          "base_uri": "https://localhost:8080/"
        },
        "id": "SpueB6zADYgE",
        "outputId": "8dbe82b7-d2bb-4b90-f322-d930f3a2c655"
      },
      "outputs": [],
      "source": [
        "import matplotlib.pyplot as plt\n",
        "import tensorflow as tf\n",
        "import numpy as np\n",
        "import platform\n",
        "import time\n",
        "import pathlib\n",
        "import os"
      ]
    },
    {
      "cell_type": "markdown",
      "metadata": {
        "id": "ciI_JnnNEGCw"
      },
      "source": [
        "## Download the dataset"
      ]
    },
    {
      "cell_type": "code",
      "execution_count": null,
      "metadata": {
        "colab": {
          "base_uri": "https://localhost:8080/"
        },
        "id": "Vk2HldshEOph",
        "outputId": "db73ba42-ec55-42d3-c897-e216c9dd6c93"
      },
      "outputs": [],
      "source": [
        "cache_dir = './tmp'\n",
        "dataset_file_name = 'shakespeare.txt'\n",
        "dataset_file_origin = 'https://storage.googleapis.com/download.tensorflow.org/data/shakespeare.txt'\n",
        "\n",
        "dataset_file_path = tf.keras.utils.get_file(\n",
        "    fname=dataset_file_name,\n",
        "    origin=dataset_file_origin,\n",
        "    cache_dir=pathlib.Path(cache_dir).absolute()\n",
        ")\n",
        "\n",
        "print(dataset_file_path)"
      ]
    },
    {
      "cell_type": "markdown",
      "metadata": {
        "id": "eKTy6YS5Gx-g"
      },
      "source": [
        "## Analyze the dataset"
      ]
    },
    {
      "cell_type": "code",
      "execution_count": null,
      "metadata": {
        "colab": {
          "base_uri": "https://localhost:8080/"
        },
        "id": "CzfX7hK8G0bn",
        "outputId": "bc106fb9-ce9c-43fb-dd21-72477ec773e0"
      },
      "outputs": [],
      "source": [
        "# Reading the database file.\n",
        "text = open(dataset_file_path, mode='r').read()\n",
        "\n",
        "print('Length of text: {} chars'.format(len(text)))"
      ]
    },
    {
      "cell_type": "code",
      "execution_count": null,
      "metadata": {
        "colab": {
          "base_uri": "https://localhost:8080/"
        },
        "id": "nknOAOuoH-Av",
        "outputId": "e2799bbf-906e-4271-df8e-ab251d8f729d"
      },
      "outputs": [],
      "source": [
        "# First 250 characters in text.\n",
        "print(text[:250])"
      ]
    },
    {
      "cell_type": "markdown",
      "metadata": {
        "id": "GqpuKh9HMNnf"
      },
      "source": [
        "## Process the dataset"
      ]
    },
    {
      "cell_type": "markdown",
      "metadata": {
        "id": "6dj4e-AGMaV4"
      },
      "source": [
        "### Vectorize the text\n",
        "\n",
        "Before feeding the text to our RNN we need to convert the text from a sequence of characters to a sequence of numbers. To do so we will detect all unique characters in the text, form a vocabulary out of it and replace each character with its index in the vocabulary."
      ]
    },
    {
      "cell_type": "code",
      "execution_count": null,
      "metadata": {
        "colab": {
          "base_uri": "https://localhost:8080/",
          "height": 254
        },
        "id": "xFFpuXfGMPq2",
        "outputId": "2dfb25d0-c249-40ff-f82c-5e82e8eaa0cb"
      },
      "outputs": [],
      "source": [
        "# Map characters to their indices in vocabulary.\n",
        "vocab = sorted(set(text))\n",
        "char2index = {char: index for index, char in enumerate(vocab)}\n",
        "\n",
        "print('{')\n",
        "for char, _ in zip(char2index, range(20)):\n",
        "    print('  {:4s}: {:3d},'.format(repr(char), char2index[char]))\n",
        "print('  ...\\n}')\n",
        "\n",
        "index2char = np.array(vocab)\n",
        "text_as_int = np.array([char2index[char] for char in text])"
      ]
    },
    {
      "cell_type": "markdown",
      "metadata": {
        "id": "CHv5HhUuTQYS"
      },
      "source": [
        "## Create training sequences"
      ]
    },
    {
      "cell_type": "code",
      "execution_count": null,
      "metadata": {
        "colab": {
          "base_uri": "https://localhost:8080/"
        },
        "id": "9tHT8IXGTTtZ",
        "outputId": "4ba55c64-b0f6-46f9-8de1-7b3ac9a55771"
      },
      "outputs": [],
      "source": [
        "# Printing examples per epoch\n",
        "sequence_length = 100\n",
        "examples_per_epoch = len(text) // (sequence_length + 1)\n",
        "\n",
        "print('examples_per_epoch:', examples_per_epoch)"
      ]
    },
    {
      "cell_type": "code",
      "execution_count": null,
      "metadata": {
        "colab": {
          "base_uri": "https://localhost:8080/"
        },
        "id": "Pf5tMMDnUP3q",
        "outputId": "5fe18d40-f350-448c-b72d-b3bb2e3d2245"
      },
      "outputs": [],
      "source": [
        "# Create training dataset.\n",
        "char_dataset = tf.data.Dataset.from_tensor_slices(text_as_int)\n",
        "\n",
        "for char in char_dataset.take(5):\n",
        "    print(index2char[char.numpy()])"
      ]
    },
    {
      "cell_type": "code",
      "execution_count": null,
      "metadata": {
        "colab": {
          "base_uri": "https://localhost:8080/"
        },
        "id": "Ap71VjB2Vuct",
        "outputId": "fd19fecc-2dda-42a6-bb90-1989a8f9a267"
      },
      "outputs": [],
      "source": [
        "# Generate batched sequences out of the char_dataset.\n",
        "sequences = char_dataset.batch(sequence_length + 1, drop_remainder=True)\n",
        "\n",
        "# Sequences size is the same as examples_per_epoch.\n",
        "print('Sequences count: {}'.format(len(list(sequences.as_numpy_iterator()))));\n",
        "print()\n",
        "\n",
        "# Sequences examples.\n",
        "for item in sequences.take(5):\n",
        "    print(repr(''.join(index2char[item.numpy()])))"
      ]
    },
    {
      "cell_type": "markdown",
      "metadata": {
        "id": "HdcrcUs4Xxso"
      },
      "source": [
        "For each sequence, duplicate and shift it to form the input and target text. For example, say `sequence_length` is `4` and our text is `Hello`. The input sequence would be `Hell`, and the target sequence `ello`."
      ]
    },
    {
      "cell_type": "code",
      "execution_count": null,
      "metadata": {
        "id": "9fxvXsP0XFDh"
      },
      "outputs": [],
      "source": [
        "def split_input_target(chunk):\n",
        "    input_text = chunk[:-1]\n",
        "    target_text = chunk[1:]\n",
        "    return input_text, target_text"
      ]
    },
    {
      "cell_type": "code",
      "execution_count": null,
      "metadata": {
        "colab": {
          "base_uri": "https://localhost:8080/"
        },
        "id": "454rWIQYXXRY",
        "outputId": "75fd7cb8-99a7-4d7f-c7d4-cd93395a58c6"
      },
      "outputs": [],
      "source": [
        "dataset = sequences.map(split_input_target)\n",
        "\n",
        "# Dataset size is the same as examples_per_epoch.\n",
        "# But each element of a sequence is now has length of `sequence_length`\n",
        "# and not `sequence_length + 1`.\n",
        "print('dataset size: {}'.format(len(list(dataset.as_numpy_iterator()))))"
      ]
    },
    {
      "cell_type": "code",
      "execution_count": null,
      "metadata": {
        "colab": {
          "base_uri": "https://localhost:8080/"
        },
        "id": "Kuoh4tCdYCck",
        "outputId": "60639502-b626-44a7-993c-f24a571a72bb"
      },
      "outputs": [
        {
          "name": "stdout",
          "output_type": "stream",
          "text": [
            "Input sequence size: 100\n",
            "Target sequence size: 100\n",
            "\n",
            "Input: 'First Citizen:\\nBefore we proceed any further, hear me speak.\\n\\nAll:\\nSpeak, speak.\\n\\nFirst Citizen:\\nYou'\n",
            "Target: 'irst Citizen:\\nBefore we proceed any further, hear me speak.\\n\\nAll:\\nSpeak, speak.\\n\\nFirst Citizen:\\nYou '\n"
          ]
        }
      ],
      "source": [
        "for input_example, target_example in dataset.take(1):\n",
        "    print('Input sequence size:', repr(len(input_example.numpy())))\n",
        "    print('Target sequence size:', repr(len(target_example.numpy())))\n",
        "    print()\n",
        "    print('Input:', repr(''.join(index2char[input_example.numpy()])))\n",
        "    print('Target:', repr(''.join(index2char[target_example.numpy()])))"
      ]
    },
    {
      "cell_type": "markdown",
      "metadata": {
        "id": "BDYHEJ0pY1ai"
      },
      "source": [
        "Each index of these vectors are processed as one time step. For the input at time step 0, the model receives the index for \"F\" and trys to predict the index for \"i\" as the next character. At the next timestep, it does the same thing but the RNN considers the previous step context in addition to the current input character."
      ]
    },
    {
      "cell_type": "code",
      "execution_count": null,
      "metadata": {
        "colab": {
          "base_uri": "https://localhost:8080/"
        },
        "id": "C-0zpv53Y2o4",
        "outputId": "a27a0d56-a9d7-485d-e9af-1449bd2e820a"
      },
      "outputs": [],
      "source": [
        "for i, (input_idx, target_idx) in enumerate(zip(input_example[:5], target_example[:5])):\n",
        "    print('Step {:2d}'.format(i))\n",
        "    print('  input: {} ({:s})'.format(input_idx, repr(index2char[input_idx])))\n",
        "    print('  expected output: {} ({:s})'.format(target_idx, repr(index2char[target_idx])))"
      ]
    },
    {
      "cell_type": "markdown",
      "metadata": {
        "id": "1iDlp40lC5YB"
      },
      "source": [
        "## Split training sequences into batches\n",
        "\n",
        "We used `tf.data` to split the text into manageable sequences. But before feeding this data into the model, we need to shuffle the data and pack it into batches."
      ]
    },
    {
      "cell_type": "code",
      "execution_count": null,
      "metadata": {
        "colab": {
          "base_uri": "https://localhost:8080/"
        },
        "id": "eDq-wa5EC3wW",
        "outputId": "e327fb5c-8f30-4010-d454-be04b9e2ce32"
      },
      "outputs": [
        {
          "data": {
            "text/plain": [
              "<_BatchDataset element_spec=(TensorSpec(shape=(64, 100), dtype=tf.int64, name=None), TensorSpec(shape=(64, 100), dtype=tf.int64, name=None))>"
            ]
          },
          "execution_count": 77,
          "metadata": {},
          "output_type": "execute_result"
        }
      ],
      "source": [
        "# Batch size.\n",
        "BATCH_SIZE = 64\n",
        "\n",
        "# Buffer size to shuffle the dataset (TF data is designed to work\n",
        "# with possibly infinite sequences, so it doesn't attempt to shuffle\n",
        "# the entire sequence in memory. Instead, it maintains a buffer in\n",
        "# which it shuffles elements).\n",
        "BUFFER_SIZE = 10000\n",
        "\n",
        "dataset = dataset.shuffle(BUFFER_SIZE).batch(BATCH_SIZE, drop_remainder=True)\n",
        "\n",
        "dataset"
      ]
    },
    {
      "cell_type": "code",
      "execution_count": null,
      "metadata": {
        "colab": {
          "base_uri": "https://localhost:8080/"
        },
        "id": "1x4puZiiOlyl",
        "outputId": "3953f037-2727-41f4-90fe-55e6f4e36055"
      },
      "outputs": [
        {
          "name": "stdout",
          "output_type": "stream",
          "text": [
            "Batched dataset size: 172\n"
          ]
        }
      ],
      "source": [
        "print('Batched dataset size: {}'.format(len(list(dataset.as_numpy_iterator()))))"
      ]
    },
    {
      "cell_type": "code",
      "execution_count": null,
      "metadata": {
        "colab": {
          "base_uri": "https://localhost:8080/"
        },
        "id": "b_kYgvQGBO0U",
        "outputId": "ab903f7d-4786-44eb-8f77-1582ecc4ce29"
      },
      "outputs": [
        {
          "name": "stdout",
          "output_type": "stream",
          "text": [
            "1st batch: input_text: tf.Tensor(\n",
            "[[26 53 61 ... 47 52  1]\n",
            " [ 1 45 53 ... 47 57  1]\n",
            " [27 24 33 ... 56 58 46]\n",
            " ...\n",
            " [59 57  8 ... 60 43  8]\n",
            " [ 1 39 52 ... 50 47 52]\n",
            " [50  1 39 ... 39 41 43]], shape=(64, 100), dtype=int64)\n",
            "\n",
            "1st batch: target_text: tf.Tensor(\n",
            "[[53 61  1 ... 52  1 58]\n",
            " [45 53 53 ... 57  1 52]\n",
            " [24 33 25 ... 58 46  0]\n",
            " ...\n",
            " [57  8  0 ... 43  8  0]\n",
            " [39 52  1 ... 47 52 42]\n",
            " [ 1 39 52 ... 41 43  8]], shape=(64, 100), dtype=int64)\n"
          ]
        }
      ],
      "source": [
        "for input_text, target_text in dataset.take(1):\n",
        "    print('1st batch: input_text:', input_text)\n",
        "    print()\n",
        "    print('1st batch: target_text:', target_text)"
      ]
    },
    {
      "cell_type": "markdown",
      "metadata": {
        "id": "ghB-VwLlD-Oz"
      },
      "source": [
        "## Build the model\n",
        "\n",
        "Use [tf.keras.Sequential](https://www.tensorflow.org/api_docs/python/tf/keras/Sequential) to define the model. For this simple example three layers are used to define our model:\n",
        "\n",
        "- [tf.keras.layers.Embedding](https://www.tensorflow.org/api_docs/python/tf/keras/layers/Embedding): The input layer. A trainable lookup table that will map the numbers of each character to a vector with `embedding_dim` dimensions;\n",
        "- [tf.keras.layers.LSTM](https://www.tensorflow.org/api_docs/python/tf/keras/layers/LSTM): A type of RNN with size units=rnn_units (You can also use a GRU layer here.)\n",
        "- [tf.keras.layers.Dense](https://www.tensorflow.org/api_docs/python/tf/keras/layers/Dense): The output layer, with vocab_size outputs."
      ]
    },
    {
      "cell_type": "code",
      "execution_count": null,
      "metadata": {
        "colab": {
          "base_uri": "https://localhost:8080/"
        },
        "id": "0cg8DlO3QjuT",
        "outputId": "116cbc5f-f792-499a-afb0-9cb90500a55f"
      },
      "outputs": [],
      "source": [
        "# Let's do a quick detour and see how Embeding layer works.\n",
        "# It takes several char indices sequences (batch) as an input.\n",
        "# It encodes every character of every sequence to a vector of tmp_embeding_size length.\n",
        "tmp_vocab_size = 10\n",
        "tmp_embeding_size = 5\n",
        "tmp_input_length = 8\n",
        "tmp_batch_size = 2\n",
        "\n",
        "tmp_model = tf.keras.models.Sequential()\n",
        "tmp_model.add(tf.keras.layers.Embedding(\n",
        "  input_dim=tmp_vocab_size,\n",
        "  output_dim=tmp_embeding_size,\n",
        "  input_length=tmp_input_length\n",
        "))\n",
        "# The model will take as input an integer matrix of size (batch, input_length).\n",
        "# The largest integer (i.e. word index) in the input should be no larger than 9 (tmp_vocab_size).\n",
        "# Now model.output_shape == (None, 10, 64), where None is the batch dimension.\n",
        "tmp_input_array = np.random.randint(\n",
        "  low=0,\n",
        "  high=tmp_vocab_size,\n",
        "  size=(tmp_batch_size, tmp_input_length)\n",
        ")\n",
        "tmp_model.compile('rmsprop', 'mse')\n",
        "tmp_output_array = tmp_model.predict(tmp_input_array)\n",
        "\n",
        "print('tmp_input_array shape:', tmp_input_array.shape)\n",
        "print('tmp_input_array:')\n",
        "print(tmp_input_array)\n",
        "print()\n",
        "print('tmp_output_array shape:', tmp_output_array.shape)\n",
        "print('tmp_output_array:')\n",
        "print(tmp_output_array)"
      ]
    },
    {
      "cell_type": "code",
      "execution_count": null,
      "metadata": {
        "id": "I7ZuvZHBD_pS"
      },
      "outputs": [],
      "source": [
        "# Length of the vocabulary in chars.\n",
        "vocab_size = len(vocab)\n",
        "\n",
        "# The embedding dimension.\n",
        "embedding_dim = 256\n",
        "\n",
        "# Number of RNN units.\n",
        "rnn_units = 1024"
      ]
    },
    {
      "cell_type": "code",
      "execution_count": null,
      "metadata": {
        "id": "-sojdDCAICWO"
      },
      "outputs": [],
      "source": [
        "def build_model(vocab_size, embedding_dim, rnn_units, batch_size):\n",
        "    model = tf.keras.models.Sequential()\n",
        "\n",
        "    model.add(tf.keras.layers.Embedding(\n",
        "      input_dim=vocab_size,\n",
        "      output_dim=embedding_dim,\n",
        "      batch_input_shape=[batch_size, None]\n",
        "    ))\n",
        "\n",
        "    model.add(tf.keras.layers.LSTM(\n",
        "      units=rnn_units,\n",
        "      return_sequences=True,\n",
        "      stateful=True,\n",
        "      recurrent_initializer=tf.keras.initializers.GlorotNormal()\n",
        "    ))\n",
        "\n",
        "    model.add(tf.keras.layers.Dense(vocab_size))\n",
        "\n",
        "    return model"
      ]
    },
    {
      "cell_type": "code",
      "execution_count": null,
      "metadata": {
        "id": "XoPwxyAPEg6z"
      },
      "outputs": [],
      "source": [
        "model = build_model(vocab_size, embedding_dim, rnn_units, BATCH_SIZE)"
      ]
    },
    {
      "cell_type": "code",
      "execution_count": null,
      "metadata": {
        "colab": {
          "base_uri": "https://localhost:8080/"
        },
        "id": "iLnlZFgU55bQ",
        "outputId": "4a438b58-2f8f-4b36-f376-9823d6a436ff"
      },
      "outputs": [],
      "source": [
        "model.summary()"
      ]
    },
    {
      "cell_type": "code",
      "execution_count": null,
      "metadata": {
        "colab": {
          "base_uri": "https://localhost:8080/",
          "height": 422
        },
        "id": "CcaO_rO_8-GH",
        "outputId": "f5f175a1-5180-46e2-81e2-8dec217687bf"
      },
      "outputs": [],
      "source": [
        "tf.keras.utils.plot_model(\n",
        "    model,\n",
        "    show_shapes=True,\n",
        "    show_layer_names=True,\n",
        ")"
      ]
    },
    {
      "cell_type": "markdown",
      "metadata": {
        "id": "Npruiy2RAPkt"
      },
      "source": [
        "## Try the model"
      ]
    },
    {
      "cell_type": "code",
      "execution_count": null,
      "metadata": {
        "colab": {
          "base_uri": "https://localhost:8080/"
        },
        "id": "E4DCLA0GASL1",
        "outputId": "d59f7209-a81b-4eae-f448-a21f394750b0"
      },
      "outputs": [],
      "source": [
        "for input_example_batch, target_example_batch in dataset.take(1):\n",
        "    example_batch_predictions = model(input_example_batch)\n",
        "    print(example_batch_predictions.shape, \"# (batch_size, sequence_length, vocab_size)\")\n"
      ]
    },
    {
      "cell_type": "markdown",
      "metadata": {
        "id": "MWebJXU9CEPd"
      },
      "source": [
        "To get actual predictions from the model we need to sample from the output distribution, to get actual character indices. This distribution is defined by the logits over the character vocabulary."
      ]
    },
    {
      "cell_type": "code",
      "execution_count": null,
      "metadata": {
        "colab": {
          "base_uri": "https://localhost:8080/"
        },
        "id": "Y4Jgo-iECFWI",
        "outputId": "874f2a08-0ac9-4417-9501-303b26eb7f3d"
      },
      "outputs": [],
      "source": [
        "print('Prediction for the 1st letter of the batch 1st sequense:')\n",
        "print(example_batch_predictions[0, 0])"
      ]
    },
    {
      "cell_type": "code",
      "execution_count": null,
      "metadata": {
        "colab": {
          "base_uri": "https://localhost:8080/"
        },
        "id": "0dOr0MwFHlRb",
        "outputId": "67c2d834-2515-4776-e31f-69c08b16836e"
      },
      "outputs": [],
      "source": [
        "# Quick overview of how tf.random.categorical() works.\n",
        "\n",
        "# logits is 2-D Tensor with shape [batch_size, num_classes].\n",
        "# Each slice [i, :] represents the unnormalized log-probabilities for all classes.\n",
        "# In the example below we say that the probability for class \"0\" is low but the\n",
        "# probability for class \"2\" is much higher.\n",
        "tmp_logits = [\n",
        "  [-0.95, 0, 0.95],\n",
        "];\n",
        "\n",
        "# Let's generate 5 samples. Each sample is a class index. Class probabilities\n",
        "# are being taken into account (we expect to see more samples of class \"2\").\n",
        "tmp_samples = tf.random.categorical(\n",
        "    logits=tmp_logits,\n",
        "    num_samples=5\n",
        ")\n",
        "\n",
        "print(tmp_samples)"
      ]
    },
    {
      "cell_type": "code",
      "execution_count": null,
      "metadata": {
        "colab": {
          "base_uri": "https://localhost:8080/"
        },
        "id": "JPzr0r4zCgS3",
        "outputId": "c4748980-cb99-4f68-fde6-a0664d55b598"
      },
      "outputs": [],
      "source": [
        "sampled_indices = tf.random.categorical(\n",
        "    logits=example_batch_predictions[0],\n",
        "    num_samples=1\n",
        ")\n",
        "\n",
        "sampled_indices.shape"
      ]
    },
    {
      "cell_type": "code",
      "execution_count": null,
      "metadata": {
        "colab": {
          "base_uri": "https://localhost:8080/"
        },
        "id": "YaA7DclID8dz",
        "outputId": "5f082dfe-2319-4c57-a261-490a87164c4f"
      },
      "outputs": [],
      "source": [
        "sampled_indices = tf.squeeze(\n",
        "    input=sampled_indices,\n",
        "    axis=-1\n",
        ").numpy()\n",
        "\n",
        "sampled_indices.shape"
      ]
    },
    {
      "cell_type": "code",
      "execution_count": null,
      "metadata": {
        "colab": {
          "base_uri": "https://localhost:8080/"
        },
        "id": "_ubGQ0gVENhB",
        "outputId": "d47796b9-9564-4fb7-8d40-e86ce91e1f80"
      },
      "outputs": [],
      "source": [
        "sampled_indices"
      ]
    },
    {
      "cell_type": "code",
      "execution_count": null,
      "metadata": {
        "colab": {
          "base_uri": "https://localhost:8080/"
        },
        "id": "Gi9HOzw9EajS",
        "outputId": "9a5bf5b2-42b9-47f4-e04d-72f7fa9bee86"
      },
      "outputs": [],
      "source": [
        "print('Input:\\n', repr(''.join(index2char[input_example_batch[0]])))\n",
        "print()\n",
        "print('Next char prediction:\\n', repr(''.join(index2char[sampled_indices])))"
      ]
    },
    {
      "cell_type": "code",
      "execution_count": null,
      "metadata": {
        "colab": {
          "base_uri": "https://localhost:8080/"
        },
        "id": "b87e0lsYMTsv",
        "outputId": "4ac3496b-1236-401b-fe54-aac573894044"
      },
      "outputs": [],
      "source": [
        "for i, (input_idx, sample_idx) in enumerate(zip(input_example_batch[0][:5], sampled_indices[:5])):\n",
        "    print('Prediction {:2d}'.format(i))\n",
        "    print('  input: {} ({:s})'.format(input_idx, repr(index2char[input_idx])))\n",
        "    print('  next predicted: {} ({:s})'.format(target_idx, repr(index2char[sample_idx])))"
      ]
    },
    {
      "cell_type": "markdown",
      "metadata": {
        "id": "LqcBufKEE_p6"
      },
      "source": [
        "## Train the model\n",
        "\n",
        "At this point the problem can be treated as a standard classification problem. Given the previous RNN state, and the input this time step, predict the class of the next character."
      ]
    },
    {
      "cell_type": "markdown",
      "metadata": {
        "id": "l4s0-PvrFub5"
      },
      "source": [
        "### Attach an optimizer, and a loss function"
      ]
    },
    {
      "cell_type": "code",
      "execution_count": null,
      "metadata": {
        "colab": {
          "base_uri": "https://localhost:8080/"
        },
        "id": "UOEUUm6JE95a",
        "outputId": "815f7289-c694-46cd-a671-bd65b8909dee"
      },
      "outputs": [
        {
          "name": "stdout",
          "output_type": "stream",
          "text": [
            "Prediction shape:  (64, 100, 65)  # (batch_size, sequence_length, vocab_size)\n",
            "scalar_loss:       4.173165\n"
          ]
        }
      ],
      "source": [
        "# An objective function.\n",
        "# The function is any callable with the signature scalar_loss = fn(y_true, y_pred).\n",
        "def loss(labels, logits):\n",
        "    return tf.keras.losses.sparse_categorical_crossentropy(\n",
        "      y_true=labels,\n",
        "      y_pred=logits,\n",
        "      from_logits=True\n",
        "    )\n",
        "\n",
        "example_batch_loss = loss(target_example_batch, example_batch_predictions)\n",
        "\n",
        "print(\"Prediction shape: \", example_batch_predictions.shape, \" # (batch_size, sequence_length, vocab_size)\")\n",
        "print(\"scalar_loss:      \", example_batch_loss.numpy().mean())"
      ]
    },
    {
      "cell_type": "code",
      "execution_count": null,
      "metadata": {
        "id": "SXhJsB6eFgrJ"
      },
      "outputs": [],
      "source": [
        "adam_optimizer = tf.keras.optimizers.Adam(learning_rate=0.001)\n",
        "model.compile(\n",
        "    optimizer=adam_optimizer,\n",
        "    loss=loss\n",
        ")"
      ]
    },
    {
      "cell_type": "markdown",
      "metadata": {
        "id": "MK3Cf-xZFwL4"
      },
      "source": [
        "### Configure checkpoints"
      ]
    },
    {
      "cell_type": "code",
      "execution_count": null,
      "metadata": {
        "id": "LUhXnHPJFy5q"
      },
      "outputs": [],
      "source": [
        "# Directory where the checkpoints will be saved.\n",
        "checkpoint_dir = 'tmp/checkpoints'\n",
        "os.makedirs(checkpoint_dir, exist_ok=True)\n",
        "\n",
        "# Name of the checkpoint files\n",
        "checkpoint_prefix = os.path.join(checkpoint_dir, 'ckpt_{epoch}')\n",
        "\n",
        "checkpoint_callback=tf.keras.callbacks.ModelCheckpoint(\n",
        "    filepath=checkpoint_prefix,\n",
        "    save_weights_only=True\n",
        ")"
      ]
    },
    {
      "cell_type": "markdown",
      "metadata": {
        "id": "oFg9MFJoGZWf"
      },
      "source": [
        "### Execute the training"
      ]
    },
    {
      "cell_type": "code",
      "execution_count": null,
      "metadata": {
        "id": "AVk-pARPGaja"
      },
      "outputs": [],
      "source": [
        "EPOCHS=300"
      ]
    },
    {
      "cell_type": "code",
      "execution_count": null,
      "metadata": {
        "colab": {
          "base_uri": "https://localhost:8080/"
        },
        "id": "y0rveBdAGeEz",
        "outputId": "d4243b8d-063c-43ae-e81a-5609ac160767"
      },
      "outputs": [
        {
          "name": "stdout",
          "output_type": "stream",
          "text": [
            "Epoch 1/300\n",
            "172/172 [==============================] - 16s 74ms/step - loss: 2.7470\n",
            "Epoch 2/300\n",
            "172/172 [==============================] - 14s 72ms/step - loss: 2.0946\n",
            "Epoch 3/300\n",
            "172/172 [==============================] - 14s 75ms/step - loss: 1.8432\n",
            "Epoch 4/300\n",
            "172/172 [==============================] - 16s 77ms/step - loss: 1.6757\n",
            "Epoch 5/300\n",
            "172/172 [==============================] - 15s 76ms/step - loss: 1.5629\n",
            "Epoch 6/300\n",
            "172/172 [==============================] - 15s 74ms/step - loss: 1.4846\n",
            "Epoch 7/300\n",
            "172/172 [==============================] - 16s 74ms/step - loss: 1.4282\n",
            "Epoch 8/300\n",
            "172/172 [==============================] - 15s 74ms/step - loss: 1.3828\n",
            "Epoch 9/300\n",
            "172/172 [==============================] - 15s 76ms/step - loss: 1.3458\n",
            "Epoch 10/300\n",
            "172/172 [==============================] - 14s 74ms/step - loss: 1.3143\n",
            "Epoch 11/300\n",
            "172/172 [==============================] - 15s 76ms/step - loss: 1.2839\n",
            "Epoch 12/300\n",
            "172/172 [==============================] - 15s 75ms/step - loss: 1.2558\n",
            "Epoch 13/300\n",
            "172/172 [==============================] - 14s 73ms/step - loss: 1.2275\n",
            "Epoch 14/300\n",
            "172/172 [==============================] - 15s 76ms/step - loss: 1.1984\n",
            "Epoch 15/300\n",
            "172/172 [==============================] - 15s 74ms/step - loss: 1.1682\n",
            "Epoch 16/300\n",
            "172/172 [==============================] - 15s 76ms/step - loss: 1.1375\n",
            "Epoch 17/300\n",
            "172/172 [==============================] - 15s 75ms/step - loss: 1.1048\n",
            "Epoch 18/300\n",
            "172/172 [==============================] - 14s 75ms/step - loss: 1.0699\n",
            "Epoch 19/300\n",
            "172/172 [==============================] - 14s 74ms/step - loss: 1.0337\n",
            "Epoch 20/300\n",
            "172/172 [==============================] - 15s 74ms/step - loss: 0.9971\n",
            "Epoch 21/300\n",
            "172/172 [==============================] - 16s 74ms/step - loss: 0.9591\n",
            "Epoch 22/300\n",
            "172/172 [==============================] - 15s 76ms/step - loss: 0.9203\n",
            "Epoch 23/300\n",
            "172/172 [==============================] - 14s 74ms/step - loss: 0.8821\n",
            "Epoch 24/300\n",
            "172/172 [==============================] - 15s 77ms/step - loss: 0.8448\n",
            "Epoch 25/300\n",
            "172/172 [==============================] - 14s 73ms/step - loss: 0.8096\n",
            "Epoch 26/300\n",
            "172/172 [==============================] - 15s 75ms/step - loss: 0.7742\n",
            "Epoch 27/300\n",
            "172/172 [==============================] - 16s 77ms/step - loss: 0.7417\n",
            "Epoch 28/300\n",
            "172/172 [==============================] - 16s 76ms/step - loss: 0.7118\n",
            "Epoch 29/300\n",
            "172/172 [==============================] - 14s 74ms/step - loss: 0.6841\n",
            "Epoch 30/300\n",
            "172/172 [==============================] - 14s 74ms/step - loss: 0.6571\n",
            "Epoch 31/300\n",
            "172/172 [==============================] - 14s 74ms/step - loss: 0.6345\n",
            "Epoch 32/300\n",
            "172/172 [==============================] - 14s 75ms/step - loss: 0.6104\n",
            "Epoch 33/300\n",
            "172/172 [==============================] - 14s 75ms/step - loss: 0.5912\n",
            "Epoch 34/300\n",
            "172/172 [==============================] - 14s 75ms/step - loss: 0.5735\n",
            "Epoch 35/300\n",
            "172/172 [==============================] - 14s 74ms/step - loss: 0.5574\n",
            "Epoch 36/300\n",
            "172/172 [==============================] - 14s 75ms/step - loss: 0.5429\n",
            "Epoch 37/300\n",
            "172/172 [==============================] - 14s 75ms/step - loss: 0.5292\n",
            "Epoch 38/300\n",
            "172/172 [==============================] - 14s 75ms/step - loss: 0.5168\n",
            "Epoch 39/300\n",
            "172/172 [==============================] - 14s 74ms/step - loss: 0.5053\n",
            "Epoch 40/300\n",
            "172/172 [==============================] - 15s 75ms/step - loss: 0.4945\n",
            "Epoch 41/300\n",
            "172/172 [==============================] - 15s 75ms/step - loss: 0.4857\n",
            "Epoch 42/300\n",
            "172/172 [==============================] - 16s 75ms/step - loss: 0.4781\n",
            "Epoch 43/300\n",
            "172/172 [==============================] - 14s 74ms/step - loss: 0.4688\n",
            "Epoch 44/300\n",
            "172/172 [==============================] - 15s 74ms/step - loss: 0.4629\n",
            "Epoch 45/300\n",
            "172/172 [==============================] - 15s 77ms/step - loss: 0.4552\n",
            "Epoch 46/300\n",
            "172/172 [==============================] - 14s 75ms/step - loss: 0.4501\n",
            "Epoch 47/300\n",
            "172/172 [==============================] - 14s 73ms/step - loss: 0.4434\n",
            "Epoch 48/300\n",
            "172/172 [==============================] - 15s 76ms/step - loss: 0.4386\n",
            "Epoch 49/300\n",
            "172/172 [==============================] - 16s 76ms/step - loss: 0.4332\n",
            "Epoch 50/300\n",
            "172/172 [==============================] - 14s 74ms/step - loss: 0.4296\n",
            "Epoch 51/300\n",
            "172/172 [==============================] - 15s 74ms/step - loss: 0.4250\n",
            "Epoch 52/300\n",
            "172/172 [==============================] - 15s 76ms/step - loss: 0.4227\n",
            "Epoch 53/300\n",
            "172/172 [==============================] - 15s 75ms/step - loss: 0.4186\n",
            "Epoch 54/300\n",
            "172/172 [==============================] - 15s 76ms/step - loss: 0.4148\n",
            "Epoch 55/300\n",
            "172/172 [==============================] - 14s 73ms/step - loss: 0.4120\n",
            "Epoch 56/300\n",
            "172/172 [==============================] - 15s 75ms/step - loss: 0.4078\n",
            "Epoch 57/300\n",
            "172/172 [==============================] - 15s 77ms/step - loss: 0.4062\n",
            "Epoch 58/300\n",
            "172/172 [==============================] - 15s 76ms/step - loss: 0.4026\n",
            "Epoch 59/300\n",
            "172/172 [==============================] - 15s 73ms/step - loss: 0.4006\n",
            "Epoch 60/300\n",
            "172/172 [==============================] - 15s 75ms/step - loss: 0.3996\n",
            "Epoch 61/300\n",
            "172/172 [==============================] - 15s 76ms/step - loss: 0.3964\n",
            "Epoch 62/300\n",
            "172/172 [==============================] - 14s 75ms/step - loss: 0.3955\n",
            "Epoch 63/300\n",
            "172/172 [==============================] - 15s 73ms/step - loss: 0.3921\n",
            "Epoch 64/300\n",
            "172/172 [==============================] - 16s 76ms/step - loss: 0.3911\n",
            "Epoch 65/300\n",
            "172/172 [==============================] - 15s 76ms/step - loss: 0.3888\n",
            "Epoch 66/300\n",
            "172/172 [==============================] - 16s 75ms/step - loss: 0.3860\n",
            "Epoch 67/300\n",
            "172/172 [==============================] - 14s 75ms/step - loss: 0.3837\n",
            "Epoch 68/300\n",
            "172/172 [==============================] - 14s 75ms/step - loss: 0.3832\n",
            "Epoch 69/300\n",
            "172/172 [==============================] - 14s 75ms/step - loss: 0.3828\n",
            "Epoch 70/300\n",
            "172/172 [==============================] - 14s 74ms/step - loss: 0.3802\n",
            "Epoch 71/300\n",
            "172/172 [==============================] - 14s 74ms/step - loss: 0.3763\n",
            "Epoch 72/300\n",
            "172/172 [==============================] - 14s 74ms/step - loss: 0.3756\n",
            "Epoch 73/300\n",
            "172/172 [==============================] - 15s 75ms/step - loss: 0.3754\n",
            "Epoch 74/300\n",
            "172/172 [==============================] - 14s 74ms/step - loss: 0.3758\n",
            "Epoch 75/300\n",
            "172/172 [==============================] - 15s 76ms/step - loss: 0.3746\n",
            "Epoch 76/300\n",
            "172/172 [==============================] - 15s 74ms/step - loss: 0.3724\n",
            "Epoch 77/300\n",
            "172/172 [==============================] - 15s 76ms/step - loss: 0.3710\n",
            "Epoch 78/300\n",
            "172/172 [==============================] - 14s 74ms/step - loss: 0.3685\n",
            "Epoch 79/300\n",
            "172/172 [==============================] - 15s 76ms/step - loss: 0.3677\n",
            "Epoch 80/300\n",
            "172/172 [==============================] - 15s 76ms/step - loss: 0.3673\n",
            "Epoch 81/300\n",
            "172/172 [==============================] - 14s 75ms/step - loss: 0.3687\n",
            "Epoch 82/300\n",
            "172/172 [==============================] - 15s 73ms/step - loss: 0.3666\n",
            "Epoch 83/300\n",
            "172/172 [==============================] - 15s 75ms/step - loss: 0.3637\n",
            "Epoch 84/300\n",
            "172/172 [==============================] - 15s 77ms/step - loss: 0.3599\n",
            "Epoch 85/300\n",
            "172/172 [==============================] - 14s 74ms/step - loss: 0.3609\n",
            "Epoch 86/300\n",
            "172/172 [==============================] - 14s 74ms/step - loss: 0.3621\n",
            "Epoch 87/300\n",
            "172/172 [==============================] - 14s 74ms/step - loss: 0.3581\n",
            "Epoch 88/300\n",
            "172/172 [==============================] - 14s 73ms/step - loss: 0.3604\n",
            "Epoch 89/300\n",
            "172/172 [==============================] - 16s 77ms/step - loss: 0.3578\n",
            "Epoch 90/300\n",
            "172/172 [==============================] - 16s 76ms/step - loss: 0.3590\n",
            "Epoch 91/300\n",
            "172/172 [==============================] - 14s 74ms/step - loss: 0.3556\n",
            "Epoch 92/300\n",
            "172/172 [==============================] - 14s 75ms/step - loss: 0.3556\n",
            "Epoch 93/300\n",
            "172/172 [==============================] - 14s 74ms/step - loss: 0.3554\n",
            "Epoch 94/300\n",
            "172/172 [==============================] - 15s 76ms/step - loss: 0.3560\n",
            "Epoch 95/300\n",
            "172/172 [==============================] - 14s 74ms/step - loss: 0.3535\n",
            "Epoch 96/300\n",
            "172/172 [==============================] - 15s 76ms/step - loss: 0.3529\n",
            "Epoch 97/300\n",
            "172/172 [==============================] - 14s 74ms/step - loss: 0.3541\n",
            "Epoch 98/300\n",
            "172/172 [==============================] - 16s 75ms/step - loss: 0.3538\n",
            "Epoch 99/300\n",
            "172/172 [==============================] - 15s 77ms/step - loss: 0.3530\n",
            "Epoch 100/300\n",
            "172/172 [==============================] - 15s 76ms/step - loss: 0.3510\n",
            "Epoch 101/300\n",
            "172/172 [==============================] - 14s 73ms/step - loss: 0.3525\n",
            "Epoch 102/300\n",
            "172/172 [==============================] - 14s 75ms/step - loss: 0.3491\n",
            "Epoch 103/300\n",
            "172/172 [==============================] - 15s 76ms/step - loss: 0.3452\n",
            "Epoch 104/300\n",
            "172/172 [==============================] - 15s 76ms/step - loss: 0.3468\n",
            "Epoch 105/300\n",
            "172/172 [==============================] - 15s 75ms/step - loss: 0.3453\n",
            "Epoch 106/300\n",
            "172/172 [==============================] - 16s 74ms/step - loss: 0.3443\n",
            "Epoch 107/300\n",
            "172/172 [==============================] - 14s 74ms/step - loss: 0.3450\n",
            "Epoch 108/300\n",
            "172/172 [==============================] - 16s 76ms/step - loss: 0.3452\n",
            "Epoch 109/300\n",
            "172/172 [==============================] - 15s 77ms/step - loss: 0.3462\n",
            "Epoch 110/300\n",
            "172/172 [==============================] - 15s 75ms/step - loss: 0.3446\n",
            "Epoch 111/300\n",
            "172/172 [==============================] - 14s 74ms/step - loss: 0.3443\n",
            "Epoch 112/300\n",
            "172/172 [==============================] - 15s 73ms/step - loss: 0.3422\n",
            "Epoch 113/300\n",
            "172/172 [==============================] - 16s 76ms/step - loss: 0.3401\n",
            "Epoch 114/300\n",
            "172/172 [==============================] - 15s 77ms/step - loss: 0.3405\n",
            "Epoch 115/300\n",
            "172/172 [==============================] - 15s 76ms/step - loss: 0.3416\n",
            "Epoch 116/300\n",
            "172/172 [==============================] - 14s 74ms/step - loss: 0.3432\n",
            "Epoch 117/300\n",
            "172/172 [==============================] - 14s 73ms/step - loss: 0.3437\n",
            "Epoch 118/300\n",
            "172/172 [==============================] - 14s 73ms/step - loss: 0.3437\n",
            "Epoch 119/300\n",
            "172/172 [==============================] - 16s 74ms/step - loss: 0.3415\n",
            "Epoch 120/300\n",
            "172/172 [==============================] - 16s 76ms/step - loss: 0.3419\n",
            "Epoch 121/300\n",
            "172/172 [==============================] - 15s 77ms/step - loss: 0.3374\n",
            "Epoch 122/300\n",
            "172/172 [==============================] - 14s 75ms/step - loss: 0.3362\n",
            "Epoch 123/300\n",
            "172/172 [==============================] - 14s 73ms/step - loss: 0.3376\n",
            "Epoch 124/300\n",
            "172/172 [==============================] - 15s 73ms/step - loss: 0.3363\n",
            "Epoch 125/300\n",
            "172/172 [==============================] - 16s 75ms/step - loss: 0.3341\n",
            "Epoch 126/300\n",
            "172/172 [==============================] - 15s 77ms/step - loss: 0.3341\n",
            "Epoch 127/300\n",
            "172/172 [==============================] - 15s 77ms/step - loss: 0.3332\n",
            "Epoch 128/300\n",
            "172/172 [==============================] - 15s 75ms/step - loss: 0.3366\n",
            "Epoch 129/300\n",
            "172/172 [==============================] - 14s 73ms/step - loss: 0.3356\n",
            "Epoch 130/300\n",
            "172/172 [==============================] - 14s 73ms/step - loss: 0.3363\n",
            "Epoch 131/300\n",
            "172/172 [==============================] - 14s 74ms/step - loss: 0.3364\n",
            "Epoch 132/300\n",
            "172/172 [==============================] - 15s 76ms/step - loss: 0.3356\n",
            "Epoch 133/300\n",
            "172/172 [==============================] - 16s 75ms/step - loss: 0.3342\n",
            "Epoch 134/300\n",
            "172/172 [==============================] - 14s 74ms/step - loss: 0.3318\n",
            "Epoch 135/300\n",
            "172/172 [==============================] - 15s 76ms/step - loss: 0.3335\n",
            "Epoch 136/300\n",
            "172/172 [==============================] - 15s 74ms/step - loss: 0.3329\n",
            "Epoch 137/300\n",
            "172/172 [==============================] - 15s 76ms/step - loss: 0.3319\n",
            "Epoch 138/300\n",
            "172/172 [==============================] - 15s 76ms/step - loss: 0.3312\n",
            "Epoch 139/300\n",
            "172/172 [==============================] - 14s 74ms/step - loss: 0.3292\n",
            "Epoch 140/300\n",
            "172/172 [==============================] - 14s 74ms/step - loss: 0.3299\n",
            "Epoch 141/300\n",
            "172/172 [==============================] - 14s 74ms/step - loss: 0.3307\n",
            "Epoch 142/300\n",
            "172/172 [==============================] - 14s 75ms/step - loss: 0.3275\n",
            "Epoch 143/300\n",
            "172/172 [==============================] - 15s 75ms/step - loss: 0.3295\n",
            "Epoch 144/300\n",
            "172/172 [==============================] - 14s 74ms/step - loss: 0.3321\n",
            "Epoch 145/300\n",
            "172/172 [==============================] - 15s 76ms/step - loss: 0.3338\n",
            "Epoch 146/300\n",
            "172/172 [==============================] - 14s 74ms/step - loss: 0.3327\n",
            "Epoch 147/300\n",
            "172/172 [==============================] - 15s 76ms/step - loss: 0.3316\n",
            "Epoch 148/300\n",
            "172/172 [==============================] - 15s 75ms/step - loss: 0.3290\n",
            "Epoch 149/300\n",
            "172/172 [==============================] - 14s 74ms/step - loss: 0.3282\n",
            "Epoch 150/300\n",
            "172/172 [==============================] - 16s 75ms/step - loss: 0.3282\n",
            "Epoch 151/300\n",
            "172/172 [==============================] - 15s 77ms/step - loss: 0.3296\n",
            "Epoch 152/300\n",
            "172/172 [==============================] - 14s 74ms/step - loss: 0.3292\n",
            "Epoch 153/300\n",
            "172/172 [==============================] - 15s 75ms/step - loss: 0.3259\n",
            "Epoch 154/300\n",
            "172/172 [==============================] - 15s 76ms/step - loss: 0.3246\n",
            "Epoch 155/300\n",
            "172/172 [==============================] - 15s 74ms/step - loss: 0.3238\n",
            "Epoch 156/300\n",
            "172/172 [==============================] - 15s 76ms/step - loss: 0.3245\n",
            "Epoch 157/300\n",
            "172/172 [==============================] - 14s 74ms/step - loss: 0.3270\n",
            "Epoch 158/300\n",
            "172/172 [==============================] - 15s 76ms/step - loss: 0.3293\n",
            "Epoch 159/300\n",
            "172/172 [==============================] - 15s 75ms/step - loss: 0.3299\n",
            "Epoch 160/300\n",
            "172/172 [==============================] - 14s 74ms/step - loss: 0.3273\n",
            "Epoch 161/300\n",
            "172/172 [==============================] - 14s 73ms/step - loss: 0.3254\n",
            "Epoch 162/300\n",
            "172/172 [==============================] - 15s 76ms/step - loss: 0.3238\n",
            "Epoch 163/300\n",
            "172/172 [==============================] - 16s 78ms/step - loss: 0.3248\n",
            "Epoch 164/300\n",
            "172/172 [==============================] - 14s 74ms/step - loss: 0.3208\n",
            "Epoch 165/300\n",
            "172/172 [==============================] - 16s 74ms/step - loss: 0.3212\n",
            "Epoch 166/300\n",
            "172/172 [==============================] - 15s 76ms/step - loss: 0.3212\n",
            "Epoch 167/300\n",
            "172/172 [==============================] - 16s 76ms/step - loss: 0.3226\n",
            "Epoch 168/300\n",
            "172/172 [==============================] - 15s 77ms/step - loss: 0.3249\n",
            "Epoch 169/300\n",
            "172/172 [==============================] - 14s 74ms/step - loss: 0.3272\n",
            "Epoch 170/300\n",
            "172/172 [==============================] - 14s 73ms/step - loss: 0.3284\n",
            "Epoch 171/300\n",
            "172/172 [==============================] - 14s 75ms/step - loss: 0.3280\n",
            "Epoch 172/300\n",
            "172/172 [==============================] - 16s 77ms/step - loss: 0.3255\n",
            "Epoch 173/300\n",
            "172/172 [==============================] - 16s 77ms/step - loss: 0.3248\n",
            "Epoch 174/300\n",
            "172/172 [==============================] - 14s 74ms/step - loss: 0.3252\n",
            "Epoch 175/300\n",
            "172/172 [==============================] - 14s 74ms/step - loss: 0.3238\n",
            "Epoch 176/300\n",
            "172/172 [==============================] - 14s 75ms/step - loss: 0.3208\n",
            "Epoch 177/300\n",
            "172/172 [==============================] - 14s 75ms/step - loss: 0.3197\n",
            "Epoch 178/300\n",
            "172/172 [==============================] - 15s 76ms/step - loss: 0.3169\n",
            "Epoch 179/300\n",
            "172/172 [==============================] - 15s 75ms/step - loss: 0.3212\n",
            "Epoch 180/300\n",
            "172/172 [==============================] - 14s 74ms/step - loss: 0.3245\n",
            "Epoch 181/300\n",
            "172/172 [==============================] - 14s 74ms/step - loss: 0.3235\n",
            "Epoch 182/300\n",
            "172/172 [==============================] - 14s 74ms/step - loss: 0.3253\n",
            "Epoch 183/300\n",
            "172/172 [==============================] - 15s 75ms/step - loss: 0.3215\n",
            "Epoch 184/300\n",
            "172/172 [==============================] - 15s 79ms/step - loss: 0.3223\n",
            "Epoch 185/300\n",
            "172/172 [==============================] - 14s 75ms/step - loss: 0.3228\n",
            "Epoch 186/300\n",
            "172/172 [==============================] - 14s 74ms/step - loss: 0.3214\n",
            "Epoch 187/300\n",
            "172/172 [==============================] - 16s 76ms/step - loss: 0.3182\n",
            "Epoch 188/300\n",
            "172/172 [==============================] - 16s 78ms/step - loss: 0.3190\n",
            "Epoch 189/300\n",
            "172/172 [==============================] - 14s 74ms/step - loss: 0.3208\n",
            "Epoch 190/300\n",
            "172/172 [==============================] - 14s 75ms/step - loss: 0.3185\n",
            "Epoch 191/300\n",
            "172/172 [==============================] - 14s 75ms/step - loss: 0.3214\n",
            "Epoch 192/300\n",
            "172/172 [==============================] - 14s 75ms/step - loss: 0.3207\n",
            "Epoch 193/300\n",
            "172/172 [==============================] - 15s 75ms/step - loss: 0.3210\n",
            "Epoch 194/300\n",
            "172/172 [==============================] - 14s 74ms/step - loss: 0.3196\n",
            "Epoch 195/300\n",
            "172/172 [==============================] - 15s 77ms/step - loss: 0.3173\n",
            "Epoch 196/300\n",
            "172/172 [==============================] - 15s 74ms/step - loss: 0.3193\n",
            "Epoch 197/300\n",
            "172/172 [==============================] - 15s 76ms/step - loss: 0.3183\n",
            "Epoch 198/300\n",
            "172/172 [==============================] - 15s 76ms/step - loss: 0.3195\n",
            "Epoch 199/300\n",
            "172/172 [==============================] - 15s 75ms/step - loss: 0.3181\n",
            "Epoch 200/300\n",
            "172/172 [==============================] - 14s 73ms/step - loss: 0.3164\n",
            "Epoch 201/300\n",
            "172/172 [==============================] - 15s 76ms/step - loss: 0.3174\n",
            "Epoch 202/300\n",
            "172/172 [==============================] - 15s 75ms/step - loss: 0.3202\n",
            "Epoch 203/300\n",
            "172/172 [==============================] - 15s 76ms/step - loss: 0.3172\n",
            "Epoch 204/300\n",
            "172/172 [==============================] - 15s 76ms/step - loss: 0.3173\n",
            "Epoch 205/300\n",
            "172/172 [==============================] - 15s 74ms/step - loss: 0.3176\n",
            "Epoch 206/300\n",
            "172/172 [==============================] - 15s 76ms/step - loss: 0.3187\n",
            "Epoch 207/300\n",
            "172/172 [==============================] - 14s 75ms/step - loss: 0.3196\n",
            "Epoch 208/300\n",
            "172/172 [==============================] - 14s 74ms/step - loss: 0.3182\n",
            "Epoch 209/300\n",
            "172/172 [==============================] - 14s 73ms/step - loss: 0.3157\n",
            "Epoch 210/300\n",
            "172/172 [==============================] - 16s 76ms/step - loss: 0.3210\n",
            "Epoch 211/300\n",
            "172/172 [==============================] - 15s 76ms/step - loss: 0.3238\n",
            "Epoch 212/300\n",
            "172/172 [==============================] - 15s 76ms/step - loss: 0.3206\n",
            "Epoch 213/300\n",
            "172/172 [==============================] - 14s 74ms/step - loss: 0.3181\n",
            "Epoch 214/300\n",
            "172/172 [==============================] - 14s 74ms/step - loss: 0.3169\n",
            "Epoch 215/300\n",
            "172/172 [==============================] - 14s 74ms/step - loss: 0.3164\n",
            "Epoch 216/300\n",
            "172/172 [==============================] - 14s 74ms/step - loss: 0.3142\n",
            "Epoch 217/300\n",
            "172/172 [==============================] - 14s 74ms/step - loss: 0.3126\n",
            "Epoch 218/300\n",
            "172/172 [==============================] - 15s 76ms/step - loss: 0.3138\n",
            "Epoch 219/300\n",
            "172/172 [==============================] - 15s 76ms/step - loss: 0.3158\n",
            "Epoch 220/300\n",
            "172/172 [==============================] - 15s 73ms/step - loss: 0.3220\n",
            "Epoch 221/300\n",
            "172/172 [==============================] - 15s 76ms/step - loss: 0.3223\n",
            "Epoch 222/300\n",
            "172/172 [==============================] - 15s 76ms/step - loss: 0.3263\n",
            "Epoch 223/300\n",
            "172/172 [==============================] - 14s 75ms/step - loss: 0.3242\n",
            "Epoch 224/300\n",
            "172/172 [==============================] - 14s 74ms/step - loss: 0.3203\n",
            "Epoch 225/300\n",
            "172/172 [==============================] - 15s 74ms/step - loss: 0.3177\n",
            "Epoch 226/300\n",
            "172/172 [==============================] - 16s 77ms/step - loss: 0.3114\n",
            "Epoch 227/300\n",
            "172/172 [==============================] - 15s 76ms/step - loss: 0.3103\n",
            "Epoch 228/300\n",
            "172/172 [==============================] - 15s 76ms/step - loss: 0.3100\n",
            "Epoch 229/300\n",
            "172/172 [==============================] - 14s 73ms/step - loss: 0.3111\n",
            "Epoch 230/300\n",
            "172/172 [==============================] - 15s 75ms/step - loss: 0.3111\n",
            "Epoch 231/300\n",
            "172/172 [==============================] - 15s 76ms/step - loss: 0.3140\n",
            "Epoch 232/300\n",
            "172/172 [==============================] - 14s 74ms/step - loss: 0.3184\n",
            "Epoch 233/300\n",
            "172/172 [==============================] - 14s 73ms/step - loss: 0.3248\n",
            "Epoch 234/300\n",
            "172/172 [==============================] - 14s 74ms/step - loss: 0.3268\n",
            "Epoch 235/300\n",
            "172/172 [==============================] - 15s 74ms/step - loss: 0.3247\n",
            "Epoch 236/300\n",
            "172/172 [==============================] - 15s 76ms/step - loss: 0.3238\n",
            "Epoch 237/300\n",
            "172/172 [==============================] - 15s 76ms/step - loss: 0.3210\n",
            "Epoch 238/300\n",
            "172/172 [==============================] - 14s 73ms/step - loss: 0.3171\n",
            "Epoch 239/300\n",
            "172/172 [==============================] - 15s 75ms/step - loss: 0.3154\n",
            "Epoch 240/300\n",
            "172/172 [==============================] - 16s 76ms/step - loss: 0.3122\n",
            "Epoch 241/300\n",
            "172/172 [==============================] - 14s 74ms/step - loss: 0.3100\n",
            "Epoch 242/300\n",
            "172/172 [==============================] - 15s 76ms/step - loss: 0.3076\n",
            "Epoch 243/300\n",
            "172/172 [==============================] - 15s 75ms/step - loss: 0.3101\n",
            "Epoch 244/300\n",
            "172/172 [==============================] - 14s 74ms/step - loss: 0.3117\n",
            "Epoch 245/300\n",
            "172/172 [==============================] - 14s 74ms/step - loss: 0.3135\n",
            "Epoch 246/300\n",
            "172/172 [==============================] - 14s 74ms/step - loss: 0.3143\n",
            "Epoch 247/300\n",
            "172/172 [==============================] - 15s 75ms/step - loss: 0.3152\n",
            "Epoch 248/300\n",
            "172/172 [==============================] - 14s 74ms/step - loss: 0.3159\n",
            "Epoch 249/300\n",
            "172/172 [==============================] - 15s 77ms/step - loss: 0.3205\n",
            "Epoch 250/300\n",
            "172/172 [==============================] - 15s 75ms/step - loss: 0.3212\n",
            "Epoch 251/300\n",
            "172/172 [==============================] - 14s 74ms/step - loss: 0.3242\n",
            "Epoch 252/300\n",
            "172/172 [==============================] - 14s 74ms/step - loss: 0.3258\n",
            "Epoch 253/300\n",
            "172/172 [==============================] - 14s 74ms/step - loss: 0.3240\n",
            "Epoch 254/300\n",
            "172/172 [==============================] - 15s 76ms/step - loss: 0.3230\n",
            "Epoch 255/300\n",
            "172/172 [==============================] - 15s 76ms/step - loss: 0.3179\n",
            "Epoch 256/300\n",
            "172/172 [==============================] - 14s 75ms/step - loss: 0.3134\n",
            "Epoch 257/300\n",
            "172/172 [==============================] - 14s 74ms/step - loss: 0.3107\n",
            "Epoch 258/300\n",
            "172/172 [==============================] - 14s 73ms/step - loss: 0.3050\n",
            "Epoch 259/300\n",
            "172/172 [==============================] - 15s 76ms/step - loss: 0.3048\n",
            "Epoch 260/300\n",
            "172/172 [==============================] - 15s 77ms/step - loss: 0.3086\n",
            "Epoch 261/300\n",
            "172/172 [==============================] - 14s 75ms/step - loss: 0.3118\n",
            "Epoch 262/300\n",
            "172/172 [==============================] - 14s 74ms/step - loss: 0.3177\n",
            "Epoch 263/300\n",
            "172/172 [==============================] - 14s 73ms/step - loss: 0.3189\n",
            "Epoch 264/300\n",
            "172/172 [==============================] - 15s 75ms/step - loss: 0.3231\n",
            "Epoch 265/300\n",
            "172/172 [==============================] - 15s 78ms/step - loss: 0.3240\n",
            "Epoch 266/300\n",
            "172/172 [==============================] - 15s 76ms/step - loss: 0.3239\n",
            "Epoch 267/300\n",
            "172/172 [==============================] - 15s 74ms/step - loss: 0.3220\n",
            "Epoch 268/300\n",
            "172/172 [==============================] - 14s 73ms/step - loss: 0.3195\n",
            "Epoch 269/300\n",
            "172/172 [==============================] - 14s 75ms/step - loss: 0.3168\n",
            "Epoch 270/300\n",
            "172/172 [==============================] - 15s 77ms/step - loss: 0.3119\n",
            "Epoch 271/300\n",
            "172/172 [==============================] - 14s 75ms/step - loss: 0.3095\n",
            "Epoch 272/300\n",
            "172/172 [==============================] - 14s 74ms/step - loss: 0.3053\n",
            "Epoch 273/300\n",
            "172/172 [==============================] - 14s 73ms/step - loss: 0.3040\n",
            "Epoch 274/300\n",
            "172/172 [==============================] - 15s 76ms/step - loss: 0.3042\n",
            "Epoch 275/300\n",
            "172/172 [==============================] - 15s 77ms/step - loss: 0.3064\n",
            "Epoch 276/300\n",
            "172/172 [==============================] - 15s 74ms/step - loss: 0.3082\n",
            "Epoch 277/300\n",
            "172/172 [==============================] - 15s 76ms/step - loss: 0.3140\n",
            "Epoch 278/300\n",
            "172/172 [==============================] - 15s 76ms/step - loss: 0.3222\n",
            "Epoch 279/300\n",
            "172/172 [==============================] - 14s 74ms/step - loss: 0.3296\n",
            "Epoch 280/300\n",
            "172/172 [==============================] - 15s 75ms/step - loss: 0.3297\n",
            "Epoch 281/300\n",
            "172/172 [==============================] - 14s 73ms/step - loss: 0.3275\n",
            "Epoch 282/300\n",
            "172/172 [==============================] - 15s 77ms/step - loss: 0.3205\n",
            "Epoch 283/300\n",
            "172/172 [==============================] - 14s 74ms/step - loss: 0.3228\n",
            "Epoch 284/300\n",
            "172/172 [==============================] - 15s 76ms/step - loss: 0.3171\n",
            "Epoch 285/300\n",
            "172/172 [==============================] - 15s 74ms/step - loss: 0.3116\n",
            "Epoch 286/300\n",
            "172/172 [==============================] - 15s 76ms/step - loss: 0.3135\n",
            "Epoch 287/300\n",
            "172/172 [==============================] - 15s 77ms/step - loss: 0.3118\n",
            "Epoch 288/300\n",
            "172/172 [==============================] - 14s 76ms/step - loss: 0.3108\n",
            "Epoch 289/300\n",
            "172/172 [==============================] - 14s 74ms/step - loss: 0.3096\n",
            "Epoch 290/300\n",
            "172/172 [==============================] - 14s 72ms/step - loss: 0.3097\n",
            "Epoch 291/300\n",
            "172/172 [==============================] - 14s 75ms/step - loss: 0.3100\n",
            "Epoch 292/300\n",
            "172/172 [==============================] - 15s 77ms/step - loss: 0.3113\n",
            "Epoch 293/300\n",
            "172/172 [==============================] - 15s 75ms/step - loss: 0.3129\n",
            "Epoch 294/300\n",
            "172/172 [==============================] - 14s 74ms/step - loss: 0.3147\n",
            "Epoch 295/300\n",
            "172/172 [==============================] - 14s 73ms/step - loss: 0.3148\n",
            "Epoch 296/300\n",
            "172/172 [==============================] - 14s 75ms/step - loss: 0.3200\n",
            "Epoch 297/300\n",
            "172/172 [==============================] - 15s 77ms/step - loss: 0.3245\n",
            "Epoch 298/300\n",
            "172/172 [==============================] - 14s 75ms/step - loss: 0.3242\n",
            "Epoch 299/300\n",
            "172/172 [==============================] - 14s 74ms/step - loss: 0.3320\n",
            "Epoch 300/300\n",
            "172/172 [==============================] - 14s 73ms/step - loss: 0.3263\n"
          ]
        }
      ],
      "source": [
        "history = model.fit(\n",
        "  x=dataset,\n",
        "  epochs=EPOCHS,\n",
        "  callbacks=[\n",
        "    checkpoint_callback\n",
        "  ]\n",
        ")"
      ]
    },
    {
      "cell_type": "code",
      "execution_count": null,
      "metadata": {
        "id": "mLdnOyvzMggJ"
      },
      "outputs": [],
      "source": [
        "def render_training_history(training_history):\n",
        "    loss = training_history.history['loss']\n",
        "    plt.title('Loss')\n",
        "    plt.xlabel('Epoch')\n",
        "    plt.ylabel('Loss')\n",
        "    plt.plot(loss, label='Training set')\n",
        "    plt.legend()\n",
        "    plt.grid(linestyle='--', linewidth=1, alpha=0.5)\n",
        "    plt.show()"
      ]
    },
    {
      "cell_type": "code",
      "execution_count": null,
      "metadata": {
        "colab": {
          "base_uri": "https://localhost:8080/",
          "height": 472
        },
        "id": "4Ghveem_OQBV",
        "outputId": "3a86ccbb-d287-49e9-f045-8b983e533f70"
      },
      "outputs": [
        {
          "data": {
            "image/png": "[encoded data removed]",
            "text/plain": [
              "<Figure size 640x480 with 1 Axes>"
            ]
          },
          "metadata": {},
          "output_type": "display_data"
        }
      ],
      "source": [
        "render_training_history(history)"
      ]
    },
    {
      "cell_type": "markdown",
      "metadata": {
        "id": "X-dhNP2OG2EM"
      },
      "source": [
        "## Generate text"
      ]
    },
    {
      "cell_type": "markdown",
      "metadata": {
        "id": "SU_YfP6sG3NC"
      },
      "source": [
        "### Restore the latest checkpoint\n",
        "\n",
        "To keep this prediction step simple, use a batch size of 1.\n",
        "\n",
        "Because of the way the RNN state is passed from timestep to timestep, the model only accepts a fixed batch size once built.\n",
        "\n",
        "To run the model with a different `batch_size`, we need to rebuild the model and restore the weights from the checkpoint."
      ]
    },
    {
      "cell_type": "code",
      "execution_count": null,
      "metadata": {
        "colab": {
          "base_uri": "https://localhost:8080/",
          "height": 36
        },
        "id": "BlG8o3wiG6f2",
        "outputId": "fb868046-1a01-4dcf-f7b6-f2f99264b431"
      },
      "outputs": [
        {
          "data": {
            "application/vnd.google.colaboratory.intrinsic+json": {
              "type": "string"
            },
            "text/plain": [
              "'tmp/checkpoints/ckpt_300'"
            ]
          },
          "execution_count": 102,
          "metadata": {},
          "output_type": "execute_result"
        }
      ],
      "source": [
        "tf.train.latest_checkpoint(checkpoint_dir)"
      ]
    },
    {
      "cell_type": "code",
      "execution_count": null,
      "metadata": {
        "id": "l7evN0LvH01P"
      },
      "outputs": [],
      "source": [
        "simplified_batch_size = 1\n",
        "\n",
        "model = build_model(vocab_size, embedding_dim, rnn_units, batch_size=1)\n",
        "\n",
        "model.load_weights(tf.train.latest_checkpoint(checkpoint_dir))\n",
        "\n",
        "model.build(tf.TensorShape([simplified_batch_size, None]))"
      ]
    },
    {
      "cell_type": "code",
      "execution_count": null,
      "metadata": {
        "colab": {
          "base_uri": "https://localhost:8080/"
        },
        "id": "Y3eduDtZI9zQ",
        "outputId": "8f8da970-d22b-4c00-b1a1-f9d041f33328"
      },
      "outputs": [],
      "source": [
        "model.summary()"
      ]
    },
    {
      "cell_type": "code",
      "execution_count": null,
      "metadata": {
        "id": "bOqdqGouJFf_"
      },
      "outputs": [],
      "source": [
        "# num_generate\n",
        "# - number of characters to generate.\n",
        "#\n",
        "# temperature\n",
        "# - Low temperatures results in more predictable text.\n",
        "# - Higher temperatures results in more surprising text.\n",
        "# - Experiment to find the best setting.\n",
        "def generate_text(model, start_string, num_generate = 1000, temperature=1.0):\n",
        "    # Evaluation step (generating text using the learned model)\n",
        "\n",
        "    # Converting our start string to numbers (vectorizing).\n",
        "    input_indices = [char2index[s] for s in start_string]\n",
        "    input_indices = tf.expand_dims(input_indices, 0)\n",
        "\n",
        "    # Empty string to store our results.\n",
        "    text_generated = []\n",
        "\n",
        "    # Here batch size == 1.\n",
        "    model.reset_states()\n",
        "    for char_index in range(num_generate):\n",
        "        predictions = model(input_indices)\n",
        "        # remove the batch dimension\n",
        "        predictions = tf.squeeze(predictions, 0)\n",
        "\n",
        "        # Using a categorical distribution to predict the character returned by the model.\n",
        "        predictions = predictions / temperature\n",
        "        predicted_id = tf.random.categorical(\n",
        "        predictions,\n",
        "        num_samples=1\n",
        "        )[-1,0].numpy()\n",
        "\n",
        "        # We pass the predicted character as the next input to the model\n",
        "        # along with the previous hidden state.\n",
        "        input_indices = tf.expand_dims([predicted_id], 0)\n",
        "\n",
        "        text_generated.append(index2char[predicted_id])\n",
        "\n",
        "    return (start_string + ''.join(text_generated))"
      ]
    },
    {
      "cell_type": "code",
      "execution_count": null,
      "metadata": {
        "colab": {
          "base_uri": "https://localhost:8080/"
        },
        "id": "Z-8e8P60J5Pg",
        "outputId": "fa4b58c7-180c-4bfd-d3c0-679451d06135"
      },
      "outputs": [],
      "source": [
        "# Generate the text with default temperature (1.0).\n",
        "print(generate_text(model, start_string=u\"ROMEO: \"))"
      ]
    },
    {
      "cell_type": "code",
      "execution_count": null,
      "metadata": {
        "colab": {
          "base_uri": "https://localhost:8080/",
          "height": 199
        },
        "id": "wq_NlwWJSdix",
        "outputId": "304a5d66-85bf-43cd-e1a5-4aa2593c5e63"
      },
      "outputs": [],
      "source": [
        "# Generate the text with higher temperature to get more unexpected results.\n",
        "print(generate_text(model, start_string=u\"ROMEO: I love you\", num_generate = 100 ,temperature=0.1))"
      ]
    }
  ],
  "metadata": {
    "accelerator": "GPU",
    "colab": {
      "provenance": []
    },
    "kernelspec": {
      "display_name": "Python 3",
      "language": "python",
      "name": "python3"
    },
    "language_info": {
      "codemirror_mode": {
        "name": "ipython",
        "version": 3
      },
      "file_extension": ".py",
      "mimetype": "text/x-python",
      "name": "python",
      "nbconvert_exporter": "python",
      "pygments_lexer": "ipython3",
      "version": "3.7.6"
    }
  },
  "nbformat": 4,
  "nbformat_minor": 0
}
